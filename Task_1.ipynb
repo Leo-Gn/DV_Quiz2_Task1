{
 "cells": [
  {
   "cell_type": "markdown",
   "metadata": {},
   "source": [
    "# Task 1"
   ]
  },
  {
   "cell_type": "code",
   "execution_count": 1,
   "metadata": {},
   "outputs": [],
   "source": [
    "import pandas as pd\n",
    "import plotly.express as px\n",
    "from ipywidgets import interact, IntRangeSlider, Dropdown"
   ]
  },
  {
   "cell_type": "code",
   "execution_count": 2,
   "metadata": {},
   "outputs": [
    {
     "name": "stdout",
     "output_type": "stream",
     "text": [
      "           datetime                  city state country     shape  \\\n",
      "0  10/10/1949 20:30            san marcos    tx      us  cylinder   \n",
      "1  10/10/1949 21:00          lackland afb    tx     NaN     light   \n",
      "2  10/10/1955 17:00  chester (uk/england)   NaN      gb    circle   \n",
      "3  10/10/1956 21:00                  edna    tx      us    circle   \n",
      "4  10/10/1960 20:00               kaneohe    hi      us     light   \n",
      "\n",
      "  duration (seconds) duration (hours/min)  \\\n",
      "0               2700           45 minutes   \n",
      "1               7200              1-2 hrs   \n",
      "2                 20           20 seconds   \n",
      "3                 20             1/2 hour   \n",
      "4                900           15 minutes   \n",
      "\n",
      "                                            comments date posted    latitude  \\\n",
      "0  This event took place in early fall around 194...   4/27/2004  29.8830556   \n",
      "1  1949 Lackland AFB&#44 TX.  Lights racing acros...  12/16/2005    29.38421   \n",
      "2  Green/Orange circular disc over Chester&#44 En...   1/21/2008        53.2   \n",
      "3  My older brother and twin sister were leaving ...   1/17/2004  28.9783333   \n",
      "4  AS a Marine 1st Lt. flying an FJ4B fighter/att...   1/22/2004  21.4180556   \n",
      "\n",
      "   longitude   \n",
      "0  -97.941111  \n",
      "1  -98.581082  \n",
      "2   -2.916667  \n",
      "3  -96.645833  \n",
      "4 -157.803611  \n"
     ]
    }
   ],
   "source": [
    "# Load the dataset\n",
    "data = pd.read_csv('scrubbed.csv', low_memory=False)\n",
    "print(data.head())"
   ]
  },
  {
   "cell_type": "code",
   "execution_count": 3,
   "metadata": {},
   "outputs": [
    {
     "name": "stdout",
     "output_type": "stream",
     "text": [
      "datetime                   0\n",
      "city                       0\n",
      "state                   5797\n",
      "country                 9670\n",
      "shape                   1932\n",
      "duration (seconds)         0\n",
      "duration (hours/min)       0\n",
      "comments                  15\n",
      "date posted                0\n",
      "latitude                   0\n",
      "longitude                  0\n",
      "dtype: int64\n",
      "--------------------\n",
      "datetime                 object\n",
      "city                     object\n",
      "state                    object\n",
      "country                  object\n",
      "shape                    object\n",
      "duration (seconds)       object\n",
      "duration (hours/min)     object\n",
      "comments                 object\n",
      "date posted              object\n",
      "latitude                 object\n",
      "longitude               float64\n",
      "dtype: object\n"
     ]
    }
   ],
   "source": [
    "# Check for missing values\n",
    "print(data.isnull().sum())\n",
    "print(\"--------------------\")\n",
    "# Check data types\n",
    "print(data.dtypes)"
   ]
  },
  {
   "cell_type": "markdown",
   "metadata": {},
   "source": [
    "### Data Cleaning: "
   ]
  },
  {
   "cell_type": "code",
   "execution_count": 4,
   "metadata": {},
   "outputs": [
    {
     "name": "stdout",
     "output_type": "stream",
     "text": [
      "<class 'pandas.core.frame.DataFrame'>\n",
      "Index: 68477 entries, 0 to 80331\n",
      "Data columns (total 12 columns):\n",
      " #   Column                Non-Null Count  Dtype         \n",
      "---  ------                --------------  -----         \n",
      " 0   datetime              68477 non-null  datetime64[ns]\n",
      " 1   city                  68477 non-null  object        \n",
      " 2   state                 66048 non-null  object        \n",
      " 3   country               68477 non-null  object        \n",
      " 4   shape                 68477 non-null  object        \n",
      " 5   duration (seconds)    68477 non-null  object        \n",
      " 6   duration (hours/min)  68477 non-null  object        \n",
      " 7   comments              68469 non-null  object        \n",
      " 8   date posted           68477 non-null  object        \n",
      " 9   latitude              68477 non-null  float64       \n",
      " 10  longitude             68477 non-null  float64       \n",
      " 11  year                  68477 non-null  int32         \n",
      "dtypes: datetime64[ns](1), float64(2), int32(1), object(8)\n",
      "memory usage: 6.5+ MB\n",
      "None\n"
     ]
    }
   ],
   "source": [
    "# 'datetime' column is a string, convert it to a datetime so we can work with it\n",
    "data['datetime'] = pd.to_datetime(data['datetime'], errors='coerce')\n",
    "\n",
    "# 'latitude' is a string, convert it to a number\n",
    "data['latitude'] = pd.to_numeric(data['latitude'], errors='coerce')\n",
    "\n",
    "# Remove rows that don't have the columns we need \n",
    "data = data.dropna(subset=['datetime', 'latitude', 'longitude ', 'country', 'shape'])\n",
    "\n",
    "# Add a 'year' column to make it easier to filter the data\n",
    "data['year'] = data['datetime'].dt.year\n",
    "\n",
    "# Cleaned data\n",
    "print(data.info())"
   ]
  },
  {
   "cell_type": "code",
   "execution_count": 5,
   "metadata": {},
   "outputs": [],
   "source": [
    "# Create a range slider for years, starting with the min and max years in the data\n",
    "year_slider = IntRangeSlider(\n",
    "    value=[data['year'].min(), data['year'].max()],  \n",
    "    min=data['year'].min(),                          \n",
    "    max=data['year'].max(),                          \n",
    "    step=1,                                          \n",
    "    description='Years:',                       \n",
    "    continuous_update=False                          \n",
    ")"
   ]
  },
  {
   "cell_type": "code",
   "execution_count": 6,
   "metadata": {},
   "outputs": [],
   "source": [
    "# Dropdown for picking the UFO shape, default is All\n",
    "shape_options = ['All'] + sorted(data['shape'].unique().tolist())\n",
    "shape_dropdown = Dropdown(\n",
    "    options=shape_options,      \n",
    "    value='All',                \n",
    "    description='UFO Shape:'    \n",
    ")"
   ]
  },
  {
   "cell_type": "code",
   "execution_count": 7,
   "metadata": {},
   "outputs": [
    {
     "data": {
      "application/vnd.jupyter.widget-view+json": {
       "model_id": "5eb62cc88c7342f0a3d0a44ff0f40ee5",
       "version_major": 2,
       "version_minor": 0
      },
      "text/plain": [
       "interactive(children=(IntRangeSlider(value=(1910, 2014), continuous_update=False, description='Years:', max=20…"
      ]
     },
     "metadata": {},
     "output_type": "display_data"
    },
    {
     "data": {
      "text/plain": [
       "<function __main__.update_map(selected_years, selected_shape)>"
      ]
     },
     "execution_count": 7,
     "metadata": {},
     "output_type": "execute_result"
    }
   ],
   "source": [
    "# World map based on the selected years and shape\n",
    "def update_map(selected_years, selected_shape):\n",
    "    # Filter the data based on the selected years\n",
    "    filtered_data = data[data['year'].between(selected_years[0], selected_years[1])]\n",
    "    \n",
    "    # Filter the data based on the selected shape\n",
    "    if selected_shape != \"All\":\n",
    "        filtered_data = filtered_data[filtered_data['shape'] == selected_shape]\n",
    "    \n",
    "    # The map\n",
    "    fig = px.scatter_geo(\n",
    "        filtered_data,                   \n",
    "        lat='latitude',                  \n",
    "        lon='longitude ',                \n",
    "        hover_name='city',               \n",
    "        hover_data=['datetime', 'comments'],  \n",
    "        color='shape',                   #\n",
    "        title=f'UFO Sightings ({selected_years[0]} - {selected_years[1]})' + \n",
    "              (f', Shape: {selected_shape}' if selected_shape != \"All\" else ', All Shapes'),\n",
    "        projection='natural earth'       \n",
    "    )\n",
    "    \n",
    "    fig.show()\n",
    "\n",
    "# Display the map\n",
    "interact(update_map, selected_years=year_slider, selected_shape=shape_dropdown)"
   ]
  },
  {
   "cell_type": "code",
   "execution_count": null,
   "metadata": {},
   "outputs": [],
   "source": []
  },
  {
   "cell_type": "code",
   "execution_count": null,
   "metadata": {},
   "outputs": [],
   "source": []
  }
 ],
 "metadata": {
  "kernelspec": {
   "display_name": ".venv",
   "language": "python",
   "name": "python3"
  },
  "language_info": {
   "codemirror_mode": {
    "name": "ipython",
    "version": 3
   },
   "file_extension": ".py",
   "mimetype": "text/x-python",
   "name": "python",
   "nbconvert_exporter": "python",
   "pygments_lexer": "ipython3",
   "version": "3.10.16"
  }
 },
 "nbformat": 4,
 "nbformat_minor": 2
}
